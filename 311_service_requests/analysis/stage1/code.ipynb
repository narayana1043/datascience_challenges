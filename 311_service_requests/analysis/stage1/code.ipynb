{
 "cells": [
  {
   "cell_type": "markdown",
   "metadata": {},
   "source": [
    "### spark session and libraries"
   ]
  },
  {
   "cell_type": "code",
   "execution_count": 1,
   "metadata": {
    "collapsed": true
   },
   "outputs": [],
   "source": [
    "from pyspark import SparkConf\n",
    "from pyspark.sql import SparkSession\n",
    "from pyspark.sql import Row\n",
    "from pyspark.sql import functions\n",
    "from pyspark.sql import DataFrameStatFunctions\n",
    "from pyspark.sql.functions import col, udf\n",
    "from IPython.display import display\n",
    "from datetime import datetime\n",
    "from pyspark.sql.types import FloatType, BooleanType, IntegerType, StringType\n",
    "from time import mktime\n",
    "from datetime import datetime\n",
    "import pandas as pd\n",
    "import scipy\n",
    "from scipy.stats.stats import pearsonr\n",
    "\n",
    "spark_conf = SparkConf() \\\n",
    "    .setAll([\n",
    "         ['spark.serializer','org.apache.spark.serializer.KryoSerializer'],\n",
    "         ['spark.rdd.compress','true'],   \n",
    "    ])\n",
    "\n",
    "spark = SparkSession \\\n",
    "    .builder \\\n",
    "    .appName(\"pager\") \\\n",
    "    .config(conf=spark_conf) \\\n",
    "    .enableHiveSupport() \\\n",
    "    .getOrCreate()\n",
    "\n",
    "hdfs_path = 'hdfs://ip-172-31-52-225.ec2.internal'"
   ]
  },
  {
   "cell_type": "markdown",
   "metadata": {},
   "source": [
    "# ETL"
   ]
  },
  {
   "cell_type": "markdown",
   "metadata": {},
   "source": [
    "### preprocessing: skip if processed file is in hadoop\n",
    "save the processed file as parquet since it is a columnar format we can perfrom groupby operations faster."
   ]
  },
  {
   "cell_type": "code",
   "execution_count": 9,
   "metadata": {
    "collapsed": true
   },
   "outputs": [],
   "source": [
    "# read 311_service_requests data from hdfs\n",
    "df = spark.read.csv(hdfs_path+ '/pager/311_service_requests.csv', header=True,\n",
    "                   inferSchema=True, ignoreLeadingWhiteSpace=None, ignoreTrailingWhiteSpace=None)\n",
    "\n",
    "# rename columns and convert to lower case\n",
    "for col, dtype in df.dtypes:\n",
    "    new_col = col.replace(\" \", \"\")\n",
    "    df = df.withColumnRenamed(col, new_col)\n",
    "    if dtype == 'string':\n",
    "        df = df.withColumn(new_col, functions.lower(df[new_col]))\n",
    "        \n",
    "# UDF fuctions \"utils\"\n",
    "get_month_func = udf(lambda x: datetime.strptime(x, '%m/%d/%Y %I:%M:%S %p').month, IntegerType())\n",
    "get_year_func = udf(lambda x: datetime.strptime(x, '%m/%d/%Y %I:%M:%S %p').year, IntegerType())\n",
    "time_difference_func = udf(lambda x, y: (datetime.strptime(x, '%m/%d/%Y %I:%M:%S %p') - \n",
    "                                         datetime.strptime(y, '%m/%d/%Y %I:%M:%S %p')).total_seconds()/3600, \n",
    "                           FloatType())\n",
    "is_school_func = udf(lambda x: False if x == \"unspecified\" else True, BooleanType())\n",
    "\n",
    "# drop NA in dates\n",
    "df = df.dropna(subset=['CreatedDate', 'ClosedDate'])\n",
    "\n",
    "# create new columns \n",
    "df = df.withColumn('Month', get_month_func(df['CreatedDate']))\n",
    "df = df.withColumn('Year', get_year_func(df['CreatedDate']))\n",
    "df = df.withColumn('TimeTaken', time_difference_func(df['ClosedDate'], df['CreatedDate']))\n",
    "df = df.withColumn('SchoolZone', is_school_func(df['SchoolName']))\n",
    "df = df.withColumn('Incidentzip', df['Incidentzip'].substr(1, 6))\n",
    "\n",
    "# rename columns\n",
    "df = df.withColumnRenamed('YCoordinate(StatePlane)', 'YCoordinateStatePlane')\n",
    "df = df.withColumnRenamed('XCoordinate(StatePlane)', 'XCoordinateStatePlane')\n",
    "\n",
    "# filters \n",
    "df = df.filter(df['TimeTaken'] > 0)\n",
    "        \n",
    "df.write.parquet(hdfs_path + '/pager/parquet/311_data/', mode='overwrite')"
   ]
  },
  {
   "cell_type": "markdown",
   "metadata": {},
   "source": [
    "## Use the parquet format from now on. \n",
    "Always start here if data parquet format on hdfs"
   ]
  },
  {
   "cell_type": "code",
   "execution_count": 7,
   "metadata": {
    "collapsed": true
   },
   "outputs": [],
   "source": [
    "df = spark.read.parquet(hdfs_path + \"/pager/parquet/311_data\")"
   ]
  },
  {
   "cell_type": "markdown",
   "metadata": {},
   "source": [
    "# Exploratory Analysis\n",
    "\n",
    " Group based on the each of the selected column for selected column + Time Taken column pair\n",
    " \n",
    " For each grouping use aggregate for count and mean\n",
    " \n",
    " Convert the grouped data into pandas dataframes and write into excel sheets\n",
    " \n",
    " Perfrom exploratory analysis means of grouped data by joining all the pandas dataframes formed\n",
    " \n",
    " Check for variance in the means\n",
    " \n",
    "  (i) Large variance/stddev implies that the feature is important driver because it means that in each \n",
    "      feature the category are diverse and have extreme varying effects"
   ]
  },
  {
   "cell_type": "code",
   "execution_count": 13,
   "metadata": {
    "collapsed": false
   },
   "outputs": [
    {
     "data": {
      "text/html": [
       "<div>\n",
       "<style scoped>\n",
       "    .dataframe tbody tr th:only-of-type {\n",
       "        vertical-align: middle;\n",
       "    }\n",
       "\n",
       "    .dataframe tbody tr th {\n",
       "        vertical-align: top;\n",
       "    }\n",
       "\n",
       "    .dataframe thead th {\n",
       "        text-align: right;\n",
       "    }\n",
       "</style>\n",
       "<table border=\"1\" class=\"dataframe\">\n",
       "  <thead>\n",
       "    <tr style=\"text-align: right;\">\n",
       "      <th></th>\n",
       "      <th>TimeTaken</th>\n",
       "      <th>CrossStreet2</th>\n",
       "      <th>FacilityType</th>\n",
       "      <th>ParkFacilityName</th>\n",
       "      <th>CrossStreet1</th>\n",
       "      <th>ComplaintType</th>\n",
       "      <th>StreetName</th>\n",
       "      <th>TaxiPickUpLocation</th>\n",
       "      <th>SchoolState</th>\n",
       "      <th>IntersectionStreet1</th>\n",
       "      <th>...</th>\n",
       "      <th>Year</th>\n",
       "      <th>SchoolName</th>\n",
       "      <th>Agency</th>\n",
       "      <th>BridgeHighwayName</th>\n",
       "      <th>SchoolAddress</th>\n",
       "      <th>SchoolRegion</th>\n",
       "      <th>AddressType</th>\n",
       "      <th>FerryTerminalName</th>\n",
       "      <th>SchoolPhoneNumber</th>\n",
       "      <th>SchoolCode</th>\n",
       "    </tr>\n",
       "  </thead>\n",
       "  <tbody>\n",
       "    <tr>\n",
       "      <th>0</th>\n",
       "      <td>count</td>\n",
       "      <td>26116.000000</td>\n",
       "      <td>6.000000</td>\n",
       "      <td>4186.000000</td>\n",
       "      <td>25768.000000</td>\n",
       "      <td>279.000000</td>\n",
       "      <td>31380.000000</td>\n",
       "      <td>8.000000</td>\n",
       "      <td>2.000000</td>\n",
       "      <td>21002.000000</td>\n",
       "      <td>...</td>\n",
       "      <td>8.000000</td>\n",
       "      <td>3713.000000</td>\n",
       "      <td>22.000000</td>\n",
       "      <td>89.000000</td>\n",
       "      <td>3056.000000</td>\n",
       "      <td>12.000000</td>\n",
       "      <td>6.000000</td>\n",
       "      <td>5251.000000</td>\n",
       "      <td>395.000000</td>\n",
       "      <td>1688.000000</td>\n",
       "    </tr>\n",
       "    <tr>\n",
       "      <th>1</th>\n",
       "      <td>mean</td>\n",
       "      <td>365.658151</td>\n",
       "      <td>1054.828844</td>\n",
       "      <td>818.797291</td>\n",
       "      <td>376.971932</td>\n",
       "      <td>666.591178</td>\n",
       "      <td>476.336761</td>\n",
       "      <td>851.979023</td>\n",
       "      <td>383.900277</td>\n",
       "      <td>345.495133</td>\n",
       "      <td>...</td>\n",
       "      <td>362.505193</td>\n",
       "      <td>883.848733</td>\n",
       "      <td>502.816256</td>\n",
       "      <td>318.197072</td>\n",
       "      <td>772.859935</td>\n",
       "      <td>1244.499186</td>\n",
       "      <td>373.093974</td>\n",
       "      <td>323.293855</td>\n",
       "      <td>310.632592</td>\n",
       "      <td>1557.043044</td>\n",
       "    </tr>\n",
       "    <tr>\n",
       "      <th>2</th>\n",
       "      <td>std</td>\n",
       "      <td>877.238402</td>\n",
       "      <td>1330.409651</td>\n",
       "      <td>1549.255497</td>\n",
       "      <td>933.795507</td>\n",
       "      <td>1557.538318</td>\n",
       "      <td>1227.822275</td>\n",
       "      <td>215.543938</td>\n",
       "      <td>40.821188</td>\n",
       "      <td>1063.045161</td>\n",
       "      <td>...</td>\n",
       "      <td>100.895896</td>\n",
       "      <td>1617.103482</td>\n",
       "      <td>611.327217</td>\n",
       "      <td>554.418336</td>\n",
       "      <td>1249.000958</td>\n",
       "      <td>475.560591</td>\n",
       "      <td>168.564998</td>\n",
       "      <td>688.868380</td>\n",
       "      <td>399.286093</td>\n",
       "      <td>2086.798106</td>\n",
       "    </tr>\n",
       "    <tr>\n",
       "      <th>3</th>\n",
       "      <td>min</td>\n",
       "      <td>0.006389</td>\n",
       "      <td>4.483830</td>\n",
       "      <td>0.099167</td>\n",
       "      <td>0.003333</td>\n",
       "      <td>0.011983</td>\n",
       "      <td>0.000278</td>\n",
       "      <td>350.880788</td>\n",
       "      <td>355.035338</td>\n",
       "      <td>0.000278</td>\n",
       "      <td>...</td>\n",
       "      <td>167.944542</td>\n",
       "      <td>0.099167</td>\n",
       "      <td>0.014705</td>\n",
       "      <td>10.849722</td>\n",
       "      <td>0.099167</td>\n",
       "      <td>246.876731</td>\n",
       "      <td>210.045546</td>\n",
       "      <td>0.075000</td>\n",
       "      <td>0.099167</td>\n",
       "      <td>0.190278</td>\n",
       "    </tr>\n",
       "    <tr>\n",
       "      <th>4</th>\n",
       "      <td>25%</td>\n",
       "      <td>65.795363</td>\n",
       "      <td>149.095611</td>\n",
       "      <td>118.831109</td>\n",
       "      <td>68.875782</td>\n",
       "      <td>45.155536</td>\n",
       "      <td>67.981020</td>\n",
       "      <td>857.112164</td>\n",
       "      <td>369.467808</td>\n",
       "      <td>43.081249</td>\n",
       "      <td>...</td>\n",
       "      <td>331.418470</td>\n",
       "      <td>130.923849</td>\n",
       "      <td>94.940681</td>\n",
       "      <td>103.146715</td>\n",
       "      <td>134.058203</td>\n",
       "      <td>1221.010513</td>\n",
       "      <td>249.373963</td>\n",
       "      <td>44.030277</td>\n",
       "      <td>150.131510</td>\n",
       "      <td>323.303968</td>\n",
       "    </tr>\n",
       "    <tr>\n",
       "      <th>5</th>\n",
       "      <td>50%</td>\n",
       "      <td>184.565391</td>\n",
       "      <td>772.227826</td>\n",
       "      <td>271.531251</td>\n",
       "      <td>187.949180</td>\n",
       "      <td>203.892079</td>\n",
       "      <td>264.445251</td>\n",
       "      <td>915.669316</td>\n",
       "      <td>383.900277</td>\n",
       "      <td>142.102847</td>\n",
       "      <td>...</td>\n",
       "      <td>386.125926</td>\n",
       "      <td>299.774564</td>\n",
       "      <td>254.354355</td>\n",
       "      <td>180.570535</td>\n",
       "      <td>297.172283</td>\n",
       "      <td>1362.218380</td>\n",
       "      <td>324.680185</td>\n",
       "      <td>120.492775</td>\n",
       "      <td>219.734943</td>\n",
       "      <td>977.235737</td>\n",
       "    </tr>\n",
       "    <tr>\n",
       "      <th>6</th>\n",
       "      <td>75%</td>\n",
       "      <td>399.636323</td>\n",
       "      <td>1137.524710</td>\n",
       "      <td>850.106070</td>\n",
       "      <td>412.771342</td>\n",
       "      <td>575.287516</td>\n",
       "      <td>466.363801</td>\n",
       "      <td>966.817305</td>\n",
       "      <td>398.332747</td>\n",
       "      <td>317.563921</td>\n",
       "      <td>...</td>\n",
       "      <td>426.852057</td>\n",
       "      <td>958.029668</td>\n",
       "      <td>591.492468</td>\n",
       "      <td>283.423990</td>\n",
       "      <td>885.079060</td>\n",
       "      <td>1539.157409</td>\n",
       "      <td>464.460444</td>\n",
       "      <td>282.840836</td>\n",
       "      <td>330.113720</td>\n",
       "      <td>2064.995386</td>\n",
       "    </tr>\n",
       "    <tr>\n",
       "      <th>7</th>\n",
       "      <td>max</td>\n",
       "      <td>37206.214844</td>\n",
       "      <td>3579.358369</td>\n",
       "      <td>32159.117188</td>\n",
       "      <td>41332.250000</td>\n",
       "      <td>17367.164875</td>\n",
       "      <td>40425.359375</td>\n",
       "      <td>1019.611859</td>\n",
       "      <td>412.765216</td>\n",
       "      <td>35128.300781</td>\n",
       "      <td>...</td>\n",
       "      <td>483.215222</td>\n",
       "      <td>32159.117188</td>\n",
       "      <td>2099.378765</td>\n",
       "      <td>4352.266968</td>\n",
       "      <td>12776.428711</td>\n",
       "      <td>1809.082021</td>\n",
       "      <td>643.832178</td>\n",
       "      <td>7250.304688</td>\n",
       "      <td>4516.438477</td>\n",
       "      <td>32159.117188</td>\n",
       "    </tr>\n",
       "  </tbody>\n",
       "</table>\n",
       "<p>8 rows × 43 columns</p>\n",
       "</div>"
      ],
      "text/plain": [
       "  TimeTaken  CrossStreet2  FacilityType  ParkFacilityName  CrossStreet1  \\\n",
       "0     count  26116.000000      6.000000       4186.000000  25768.000000   \n",
       "1      mean    365.658151   1054.828844        818.797291    376.971932   \n",
       "2       std    877.238402   1330.409651       1549.255497    933.795507   \n",
       "3       min      0.006389      4.483830          0.099167      0.003333   \n",
       "4       25%     65.795363    149.095611        118.831109     68.875782   \n",
       "5       50%    184.565391    772.227826        271.531251    187.949180   \n",
       "6       75%    399.636323   1137.524710        850.106070    412.771342   \n",
       "7       max  37206.214844   3579.358369      32159.117188  41332.250000   \n",
       "\n",
       "   ComplaintType    StreetName  TaxiPickUpLocation  SchoolState  \\\n",
       "0     279.000000  31380.000000            8.000000     2.000000   \n",
       "1     666.591178    476.336761          851.979023   383.900277   \n",
       "2    1557.538318   1227.822275          215.543938    40.821188   \n",
       "3       0.011983      0.000278          350.880788   355.035338   \n",
       "4      45.155536     67.981020          857.112164   369.467808   \n",
       "5     203.892079    264.445251          915.669316   383.900277   \n",
       "6     575.287516    466.363801          966.817305   398.332747   \n",
       "7   17367.164875  40425.359375         1019.611859   412.765216   \n",
       "\n",
       "   IntersectionStreet1      ...             Year    SchoolName       Agency  \\\n",
       "0         21002.000000      ...         8.000000   3713.000000    22.000000   \n",
       "1           345.495133      ...       362.505193    883.848733   502.816256   \n",
       "2          1063.045161      ...       100.895896   1617.103482   611.327217   \n",
       "3             0.000278      ...       167.944542      0.099167     0.014705   \n",
       "4            43.081249      ...       331.418470    130.923849    94.940681   \n",
       "5           142.102847      ...       386.125926    299.774564   254.354355   \n",
       "6           317.563921      ...       426.852057    958.029668   591.492468   \n",
       "7         35128.300781      ...       483.215222  32159.117188  2099.378765   \n",
       "\n",
       "   BridgeHighwayName  SchoolAddress  SchoolRegion  AddressType  \\\n",
       "0          89.000000    3056.000000     12.000000     6.000000   \n",
       "1         318.197072     772.859935   1244.499186   373.093974   \n",
       "2         554.418336    1249.000958    475.560591   168.564998   \n",
       "3          10.849722       0.099167    246.876731   210.045546   \n",
       "4         103.146715     134.058203   1221.010513   249.373963   \n",
       "5         180.570535     297.172283   1362.218380   324.680185   \n",
       "6         283.423990     885.079060   1539.157409   464.460444   \n",
       "7        4352.266968   12776.428711   1809.082021   643.832178   \n",
       "\n",
       "   FerryTerminalName  SchoolPhoneNumber    SchoolCode  \n",
       "0        5251.000000         395.000000   1688.000000  \n",
       "1         323.293855         310.632592   1557.043044  \n",
       "2         688.868380         399.286093   2086.798106  \n",
       "3           0.075000           0.099167      0.190278  \n",
       "4          44.030277         150.131510    323.303968  \n",
       "5         120.492775         219.734943    977.235737  \n",
       "6         282.840836         330.113720   2064.995386  \n",
       "7        7250.304688        4516.438477  32159.117188  \n",
       "\n",
       "[8 rows x 43 columns]"
      ]
     },
     "metadata": {},
     "output_type": "display_data"
    }
   ],
   "source": [
    "grouped_counts_dict = {}\n",
    "pandas_df_dict = {}\n",
    "\n",
    "# removing too detail oriented columns or columns that are copy of some other columns etc\n",
    "select_columns = list(set(df.columns) - \n",
    "                      set(['Latitude', 'Longitude', 'Location', 'XCoordinateStatePlane', 'YCoordinateStatePlane',\n",
    "                          'ClosedDate', 'CreatedDate', 'DueDate', 'ResolutionActionUpdatedDate', 'IncidentAddress',\n",
    "                          'TimeTaken', 'ParkBorough', 'AgencyName', 'UniqueKey', 'ResolutionDescription']))\n",
    "# print(select_columns)\n",
    "# Create a Pandas Excel writer using XlsxWriter as the engine.\n",
    "writer = pd.ExcelWriter('./pager_all_col_analysis.xlsx', engine='xlsxwriter')\n",
    "\n",
    "for col in select_columns:\n",
    "    group = [col] + ['TimeTaken']\n",
    "    grouped = df.select(group).groupBy(col)\n",
    "    grouped_counts_dict[col] = {}\n",
    "    grouped_counts_dict[col]['counts'] = grouped.count()\n",
    "    grouped_counts_dict[col]['mean_time_taken'] = grouped.mean('TimeTaken')\n",
    "\n",
    "    pandas_df_count = grouped_counts_dict[col]['counts'].toPandas()\n",
    "    pandas_df_mean = grouped_counts_dict[col]['mean_time_taken'].toPandas()\n",
    "    \n",
    "    pandas_df = pandas_df_count.join(pandas_df_mean.set_index(col), on=col)\n",
    "    pandas_df_dict[col] = pandas_df[['avg(TimeTaken)']].describe()\n",
    "    \n",
    "    pandas_df.to_excel(writer, sheet_name=col)\n",
    "\n",
    "exploratory_analysis = pd.concat([pandas_df_dict[col] for col in select_columns], axis=1).reset_index()\n",
    "exploratory_analysis.columns = ['TimeTaken'] + select_columns\n",
    "exploratory_analysis.to_excel(writer, sheet_name='exploratory_analysis')\n",
    "\n",
    "display(exploratory_analysis)"
   ]
  },
  {
   "cell_type": "code",
   "execution_count": 30,
   "metadata": {
    "collapsed": false
   },
   "outputs": [
    {
     "data": {
      "text/plain": [
       "0.030723661434716595"
      ]
     },
     "execution_count": 30,
     "metadata": {},
     "output_type": "execute_result"
    }
   ],
   "source": [
    "# Correlation between Time Taken and Time Due\n",
    "df.filter(df['DueDate'].isNotNull()).withColumn(\n",
    "    'TimeDue', time_difference_func(df['DueDate'], df['CreatedDate'])).corr(col1='TimeDue', col2='TimeTaken')"
   ]
  },
  {
   "cell_type": "code",
   "execution_count": null,
   "metadata": {
    "collapsed": true
   },
   "outputs": [],
   "source": []
  },
  {
   "cell_type": "markdown",
   "metadata": {},
   "source": [
    "## Do the top features change over time"
   ]
  },
  {
   "cell_type": "markdown",
   "metadata": {},
   "source": [
    "Group based on Year/Month and the column\n",
    "\n",
    "Aggregate on the TimeTaken column (mean, counts)\n",
    "\n",
    "convert the result into pandas dataframe and write to xlsx file\n",
    "\n",
    "use the excel file to check if the mean is changing with year/month (time)"
   ]
  },
  {
   "cell_type": "code",
   "execution_count": 33,
   "metadata": {
    "collapsed": true
   },
   "outputs": [],
   "source": [
    "top_features = ['Agency', 'ComplaintType', 'Descriptor', 'LocationType', 'Borough']"
   ]
  },
  {
   "cell_type": "markdown",
   "metadata": {},
   "source": [
    "### Yearly"
   ]
  },
  {
   "cell_type": "code",
   "execution_count": 34,
   "metadata": {
    "collapsed": true
   },
   "outputs": [],
   "source": [
    "# Create a Pandas Excel writer using XlsxWriter as the engine.\n",
    "writer = pd.ExcelWriter('./pager_yearly_analysis.xlsx', engine='xlsxwriter')\n",
    "\n",
    "for col in top_features:\n",
    "    group = [col] + ['TimeTaken', 'Year']\n",
    "    grouped = df.select(group).groupBy(['Year'] + [col])\n",
    "    grouped_counts_dict[col] = {}\n",
    "    grouped_counts_dict[col]['counts'] = grouped.count()\n",
    "    grouped_counts_dict[col]['mean_time_taken'] = grouped.mean('TimeTaken')\n",
    "\n",
    "    pandas_df_count = grouped_counts_dict[col]['counts'].toPandas()\n",
    "    pandas_df_mean = grouped_counts_dict[col]['mean_time_taken'].toPandas()\n",
    "    \n",
    "    pandas_df = pandas_df_count.join(pandas_df_mean.set_index(['Year'] + [col]), \n",
    "                                     on=['Year'] + [col]).sort_values(by=col).reset_index(drop=True)\n",
    "    pandas_df.to_excel(writer, sheet_name=col)"
   ]
  },
  {
   "cell_type": "markdown",
   "metadata": {},
   "source": [
    "### Monthly"
   ]
  },
  {
   "cell_type": "code",
   "execution_count": 35,
   "metadata": {
    "collapsed": true
   },
   "outputs": [],
   "source": [
    "# Create a Pandas Excel writer using XlsxWriter as the engine.\n",
    "writer = pd.ExcelWriter('./pager_monthly_analysis.xlsx', engine='xlsxwriter')\n",
    "\n",
    "for col in top_features:\n",
    "    group = [col] + ['TimeTaken', 'Month']\n",
    "    grouped = df.select(group).groupBy(['Month'] + [col])\n",
    "    grouped_counts_dict[col] = {}\n",
    "    grouped_counts_dict[col]['counts'] = grouped.count()\n",
    "    grouped_counts_dict[col]['mean_time_taken'] = grouped.mean('TimeTaken')\n",
    "\n",
    "    pandas_df_count = grouped_counts_dict[col]['counts'].toPandas()\n",
    "    pandas_df_mean = grouped_counts_dict[col]['mean_time_taken'].toPandas()\n",
    "    \n",
    "    pandas_df = pandas_df_count.join(pandas_df_mean.set_index(['Month'] + [col]), \n",
    "                                     on=['Month'] + [col]).sort_values(by=col).reset_index(drop=True)\n",
    "    pandas_df.to_excel(writer, sheet_name=col)"
   ]
  },
  {
   "cell_type": "code",
   "execution_count": null,
   "metadata": {
    "collapsed": true
   },
   "outputs": [],
   "source": []
  },
  {
   "cell_type": "markdown",
   "metadata": {},
   "source": [
    "## Are there rats?"
   ]
  },
  {
   "cell_type": "code",
   "execution_count": 52,
   "metadata": {
    "collapsed": true
   },
   "outputs": [],
   "source": [
    "df = spark.read.parquet(hdfs_path + \"/pager/parquet/311_data\")\n",
    "df = df[['ComplaintType', 'Descriptor', 'LocationType', 'Borough', 'Incidentzip']]\n",
    "df = df.filter(df['Borough'].isin(['bronx', 'manhattan', 'brooklyn', 'queens', 'staten island']))\n",
    "\n",
    "incident_count_df = df.groupBy('Borough').agg(functions.count('Incidentzip').alias('incident_count')).toPandas()\n",
    "\n",
    "descriptor_list = df.select('Descriptor').distinct().toPandas()['Descriptor'].tolist()"
   ]
  },
  {
   "cell_type": "markdown",
   "metadata": {},
   "source": [
    "removing unwanted descriptors not related to rats in restuarnts with low inspection grades"
   ]
  },
  {
   "cell_type": "code",
   "execution_count": 53,
   "metadata": {
    "collapsed": true
   },
   "outputs": [],
   "source": [
    "select_descriptor_list = list(set(descriptor_list) - set(['underage - licensed est', 'banging/pounding', \n",
    "                                                          'after hours - licensed est', 'n/a', 'people created noise',\n",
    "                                                         'loud talking', 'facility construction', 'sign',\n",
    "                                                         'loud music/party']))"
   ]
  },
  {
   "cell_type": "code",
   "execution_count": 56,
   "metadata": {
    "collapsed": false
   },
   "outputs": [
    {
     "data": {
      "text/html": [
       "<div>\n",
       "<style scoped>\n",
       "    .dataframe tbody tr th:only-of-type {\n",
       "        vertical-align: middle;\n",
       "    }\n",
       "\n",
       "    .dataframe tbody tr th {\n",
       "        vertical-align: top;\n",
       "    }\n",
       "\n",
       "    .dataframe thead th {\n",
       "        text-align: right;\n",
       "    }\n",
       "</style>\n",
       "<table border=\"1\" class=\"dataframe\">\n",
       "  <thead>\n",
       "    <tr style=\"text-align: right;\">\n",
       "      <th></th>\n",
       "      <th>Borough</th>\n",
       "      <th>rat_encounters</th>\n",
       "      <th>restaurant_count</th>\n",
       "      <th>incident_count</th>\n",
       "    </tr>\n",
       "  </thead>\n",
       "  <tbody>\n",
       "    <tr>\n",
       "      <th>0</th>\n",
       "      <td>bronx</td>\n",
       "      <td>14063</td>\n",
       "      <td>4982</td>\n",
       "      <td>2526713</td>\n",
       "    </tr>\n",
       "    <tr>\n",
       "      <th>1</th>\n",
       "      <td>manhattan</td>\n",
       "      <td>17816</td>\n",
       "      <td>19992</td>\n",
       "      <td>2853110</td>\n",
       "    </tr>\n",
       "    <tr>\n",
       "      <th>2</th>\n",
       "      <td>brooklyn</td>\n",
       "      <td>27153</td>\n",
       "      <td>12595</td>\n",
       "      <td>4252203</td>\n",
       "    </tr>\n",
       "    <tr>\n",
       "      <th>3</th>\n",
       "      <td>queens</td>\n",
       "      <td>12183</td>\n",
       "      <td>10297</td>\n",
       "      <td>3164081</td>\n",
       "    </tr>\n",
       "    <tr>\n",
       "      <th>4</th>\n",
       "      <td>staten island</td>\n",
       "      <td>4051</td>\n",
       "      <td>2038</td>\n",
       "      <td>685958</td>\n",
       "    </tr>\n",
       "  </tbody>\n",
       "</table>\n",
       "</div>"
      ],
      "text/plain": [
       "         Borough  rat_encounters  restaurant_count  incident_count\n",
       "0          bronx           14063              4982         2526713\n",
       "1      manhattan           17816             19992         2853110\n",
       "2       brooklyn           27153             12595         4252203\n",
       "3         queens           12183             10297         3164081\n",
       "4  staten island            4051              2038          685958"
      ]
     },
     "metadata": {},
     "output_type": "display_data"
    },
    {
     "name": "stdout",
     "output_type": "stream",
     "text": [
      "Correlation between rat_encounters and restaurant_count\n"
     ]
    },
    {
     "data": {
      "text/html": [
       "<div>\n",
       "<style scoped>\n",
       "    .dataframe tbody tr th:only-of-type {\n",
       "        vertical-align: middle;\n",
       "    }\n",
       "\n",
       "    .dataframe tbody tr th {\n",
       "        vertical-align: top;\n",
       "    }\n",
       "\n",
       "    .dataframe thead th {\n",
       "        text-align: right;\n",
       "    }\n",
       "</style>\n",
       "<table border=\"1\" class=\"dataframe\">\n",
       "  <thead>\n",
       "    <tr style=\"text-align: right;\">\n",
       "      <th></th>\n",
       "      <th>rat_encounters</th>\n",
       "      <th>restaurant_count</th>\n",
       "      <th>incident_count</th>\n",
       "    </tr>\n",
       "  </thead>\n",
       "  <tbody>\n",
       "    <tr>\n",
       "      <th>rat_encounters</th>\n",
       "      <td>1.000000</td>\n",
       "      <td>0.639739</td>\n",
       "      <td>0.918782</td>\n",
       "    </tr>\n",
       "    <tr>\n",
       "      <th>restaurant_count</th>\n",
       "      <td>0.639739</td>\n",
       "      <td>1.000000</td>\n",
       "      <td>0.623292</td>\n",
       "    </tr>\n",
       "    <tr>\n",
       "      <th>incident_count</th>\n",
       "      <td>0.918782</td>\n",
       "      <td>0.623292</td>\n",
       "      <td>1.000000</td>\n",
       "    </tr>\n",
       "  </tbody>\n",
       "</table>\n",
       "</div>"
      ],
      "text/plain": [
       "                  rat_encounters  restaurant_count  incident_count\n",
       "rat_encounters          1.000000          0.639739        0.918782\n",
       "restaurant_count        0.639739          1.000000        0.623292\n",
       "incident_count          0.918782          0.623292        1.000000"
      ]
     },
     "metadata": {},
     "output_type": "display_data"
    },
    {
     "name": "stdout",
     "output_type": "stream",
     "text": [
      "Corrleation b/w rat_encounters and restaurant_count \n",
      " after normalizing their counts with Incident_count\n"
     ]
    },
    {
     "data": {
      "text/plain": [
       "(0.27148626993565828, 0.65862739214395583)"
      ]
     },
     "execution_count": 56,
     "metadata": {},
     "output_type": "execute_result"
    }
   ],
   "source": [
    "rat_encounters_df = df.filter(df['Descriptor'].like('rat sighting')).groupBy(\n",
    "    'Borough').agg(functions.count('Incidentzip').alias('rat_encounters')).toPandas()\n",
    "\n",
    "restaurant_count_df = df.filter(df['LocationType'].like('%restaurant%') & df['Descriptor'].isin(select_descriptor_list)\n",
    "                               ).groupBy('Borough').agg(functions.count('Incidentzip').alias('restaurant_count')).toPandas()\n",
    "\n",
    "rats_df = rat_encounters_df.join(restaurant_count_df.set_index('Borough'), on='Borough').join(\n",
    "    incident_count_df.set_index('Borough'), on='Borough')\n",
    "\n",
    "display(rats_df)\n",
    "print(\"Correlation between rat_encounters and restaurant_count\")\n",
    "display(rats_df.corr())\n",
    "print(\"Corrleation b/w rat_encounters and restaurant_count \\n after normalizing their counts with Incident_count\")\n",
    "pearsonr(rats_df['rat_encounters']/rats_df['incident_count'], rats_df['restaurant_count']/rats_df['incident_count'])"
   ]
  },
  {
   "cell_type": "code",
   "execution_count": null,
   "metadata": {
    "collapsed": true
   },
   "outputs": [],
   "source": []
  },
  {
   "cell_type": "code",
   "execution_count": null,
   "metadata": {
    "collapsed": true
   },
   "outputs": [],
   "source": []
  },
  {
   "cell_type": "code",
   "execution_count": null,
   "metadata": {
    "collapsed": true
   },
   "outputs": [],
   "source": []
  },
  {
   "cell_type": "code",
   "execution_count": null,
   "metadata": {
    "collapsed": true
   },
   "outputs": [],
   "source": []
  },
  {
   "cell_type": "code",
   "execution_count": null,
   "metadata": {
    "collapsed": true
   },
   "outputs": [],
   "source": []
  },
  {
   "cell_type": "code",
   "execution_count": null,
   "metadata": {
    "collapsed": true
   },
   "outputs": [],
   "source": []
  },
  {
   "cell_type": "code",
   "execution_count": null,
   "metadata": {
    "collapsed": true
   },
   "outputs": [],
   "source": []
  },
  {
   "cell_type": "code",
   "execution_count": null,
   "metadata": {
    "collapsed": true
   },
   "outputs": [],
   "source": []
  },
  {
   "cell_type": "code",
   "execution_count": null,
   "metadata": {
    "collapsed": true
   },
   "outputs": [],
   "source": []
  },
  {
   "cell_type": "code",
   "execution_count": null,
   "metadata": {
    "collapsed": true
   },
   "outputs": [],
   "source": []
  },
  {
   "cell_type": "code",
   "execution_count": null,
   "metadata": {
    "collapsed": true
   },
   "outputs": [],
   "source": []
  }
 ],
 "metadata": {
  "anaconda-cloud": {},
  "kernelspec": {
   "display_name": "Python [conda root]",
   "language": "python",
   "name": "conda-root-py"
  },
  "language_info": {
   "codemirror_mode": {
    "name": "ipython",
    "version": 2
   },
   "file_extension": ".py",
   "mimetype": "text/x-python",
   "name": "python",
   "nbconvert_exporter": "python",
   "pygments_lexer": "ipython2",
   "version": "2.7.12"
  }
 },
 "nbformat": 4,
 "nbformat_minor": 1
}
